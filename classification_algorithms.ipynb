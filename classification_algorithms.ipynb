{
 "cells": [
  {
   "cell_type": "markdown",
   "id": "e7238085-21ee-40e2-82e3-8d971021dadb",
   "metadata": {},
   "source": [
    "# Classification algorithms\n",
    "The purpose of this notebook is to compare different classification methods, those being: logistic regression, Bayes algorithm and discriminatory analysis."
   ]
  },
  {
   "cell_type": "code",
   "execution_count": null,
   "id": "e5d33aba-64e7-44cd-bf7c-156b08eae172",
   "metadata": {},
   "outputs": [],
   "source": [
    "import pandas as pd\n",
    "import numpy as np\n",
    "import sklearn"
   ]
  }
 ],
 "metadata": {
  "kernelspec": {
   "display_name": "Python 3 (ipykernel)",
   "language": "python",
   "name": "python3"
  },
  "language_info": {
   "codemirror_mode": {
    "name": "ipython",
    "version": 3
   },
   "file_extension": ".py",
   "mimetype": "text/x-python",
   "name": "python",
   "nbconvert_exporter": "python",
   "pygments_lexer": "ipython3",
   "version": "3.11.4"
  }
 },
 "nbformat": 4,
 "nbformat_minor": 5
}
